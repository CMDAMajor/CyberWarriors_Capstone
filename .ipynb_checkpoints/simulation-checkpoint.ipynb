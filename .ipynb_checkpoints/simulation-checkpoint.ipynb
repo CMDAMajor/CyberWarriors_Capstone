{
 "cells": [
  {
   "cell_type": "code",
   "execution_count": 5,
   "metadata": {},
   "outputs": [
    {
     "name": "stdout",
     "output_type": "stream",
     "text": [
      "    V1  V2   V3   V4   V5    V6\n",
      "0  0.0   0  0.7  0.0  0.0  0.00\n",
      "1  0.2   0  0.6  0.0  0.0  0.00\n",
      "2  0.0   0  0.0  0.8  0.5  0.10\n",
      "3  0.0   0  0.0  0.0  0.0  0.66\n",
      "4  0.0   0  0.0  0.0  0.0  0.66\n",
      "5  0.0   0  0.0  0.0  0.0  0.00\n",
      "6  1.0   1  0.0  0.0  0.0  0.00\n",
      "6\n",
      "[[0.   0.   0.7  0.   0.   0.  ]\n",
      " [0.2  0.   0.6  0.   0.   0.  ]\n",
      " [0.   0.   0.   0.8  0.5  0.1 ]\n",
      " [0.   0.   0.   0.   0.   0.66]\n",
      " [0.   0.   0.   0.   0.   0.66]\n",
      " [0.   0.   0.   0.   0.   0.  ]]\n",
      "[[1. 1. 0. 0. 0. 0.]]\n"
     ]
    }
   ],
   "source": [
    "import numpy as np\n",
    "import pandas as pd\n",
    "from cond import CalculateProb\n",
    "#PS, EA, MR\n",
    "#read in csv of conditional matrix here. Conditional Matrix contains likelihood that ohter nodes will be infected given\n",
    "#an initial condition that represents which nodes are already compromised. Initial condition(s) are in the csv.\n",
    "conditional  =  pd.read_csv(\"net1.csv\")\n",
    "print(conditional)\n",
    "#seperate out M, the probability matrix, and N the Node matrix\n",
    "numCol = len(conditional.columns)\n",
    "print(numCol)\n",
    "M = np.array(conditional.iloc[0:numCol])\n",
    "print(M)\n",
    "N = np.array(conditional.iloc[numCol:numCol+1])\n",
    "print(N)"
   ]
  },
  {
   "cell_type": "code",
   "execution_count": 8,
   "metadata": {},
   "outputs": [
    {
     "name": "stdout",
     "output_type": "stream",
     "text": [
      "[0.0, 0.0, 0.0, 0.0, 0.0, 0.0]\n"
     ]
    }
   ],
   "source": [
    "#Create a list of nodes that the User wants to watch for compromise. \n",
    "#This list will determine how long the simulation will run. \n",
    "\n",
    "Watch = N[5].tolist()\n",
    "print (Watch)"
   ]
  },
  {
   "cell_type": "code",
   "execution_count": 13,
   "metadata": {},
   "outputs": [
    {
     "ename": "SyntaxError",
     "evalue": "invalid syntax (<ipython-input-13-a99b82faec19>, line 3)",
     "output_type": "error",
     "traceback": [
      "\u001b[0;36m  File \u001b[0;32m\"<ipython-input-13-a99b82faec19>\"\u001b[0;36m, line \u001b[0;32m3\u001b[0m\n\u001b[0;31m    if np.all(i = 1, for(i in Watch)):\u001b[0m\n\u001b[0m                       ^\u001b[0m\n\u001b[0;31mSyntaxError\u001b[0m\u001b[0;31m:\u001b[0m invalid syntax\n"
     ]
    }
   ],
   "source": [
    "# Checks to see if the nodes in watch are compromised or not. Returns a boolean.\n",
    "def isCompromised(Watch):\n",
    "    if np.all(i = 1, for(i in Watch)):\n",
    "        return True\n",
    "    return False\n",
    "    "
   ]
  },
  {
   "cell_type": "code",
   "execution_count": null,
   "metadata": {},
   "outputs": [],
   "source": []
  }
 ],
 "metadata": {
  "kernelspec": {
   "display_name": "Python 3",
   "language": "python",
   "name": "python3"
  },
  "language_info": {
   "codemirror_mode": {
    "name": "ipython",
    "version": 3
   },
   "file_extension": ".py",
   "mimetype": "text/x-python",
   "name": "python",
   "nbconvert_exporter": "python",
   "pygments_lexer": "ipython3",
   "version": "3.7.0"
  }
 },
 "nbformat": 4,
 "nbformat_minor": 2
}
