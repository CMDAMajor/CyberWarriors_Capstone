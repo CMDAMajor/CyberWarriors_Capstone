{
 "cells": [
  {
   "cell_type": "code",
   "execution_count": 1,
   "metadata": {},
   "outputs": [],
   "source": [
    "import numpy as np\n",
    "import pandas as pd\n",
    "\n",
    "def CalculateProb(M,N):\n",
    "    p = np.zeros(len(N))\n",
    "    for i in range (0, len(N)):\n",
    "        \n",
    "    #if node is already compromised, value will remain 1\n",
    "    #if no nodes connected to a node are compromised the value will reamain 0\n",
    "    \n",
    "        colM = M[:,i]\n",
    "        initProbs = np.multiply(colM,N)\n",
    "        oneArray = np.ones(len(N))\n",
    "        prelimProbs = np.subtract(oneArray,initProbs)\n",
    "        product = np.prod(prelimProbs)\n",
    "        finalProb = 1 - product\n",
    "        p[i] = finalProb\n",
    "    return p\n",
    "    \n",
    "    \n"
   ]
  },
  {
   "cell_type": "code",
   "execution_count": null,
   "metadata": {},
   "outputs": [],
   "source": []
  },
  {
   "cell_type": "code",
   "execution_count": null,
   "metadata": {},
   "outputs": [],
   "source": []
  }
 ],
 "metadata": {
  "kernelspec": {
   "display_name": "Python 3",
   "language": "python",
   "name": "python3"
  },
  "language_info": {
   "codemirror_mode": {
    "name": "ipython",
    "version": 3
   },
   "file_extension": ".py",
   "mimetype": "text/x-python",
   "name": "python",
   "nbconvert_exporter": "python",
   "pygments_lexer": "ipython3",
   "version": "3.7.0"
  }
 },
 "nbformat": 4,
 "nbformat_minor": 2
}
